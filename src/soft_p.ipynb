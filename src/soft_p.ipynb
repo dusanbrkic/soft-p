{
 "cells": [
  {
   "cell_type": "code",
   "execution_count": null,
   "id": "9f3b6b2c",
   "metadata": {},
   "outputs": [],
   "source": [
    "# install soft-p dependencies\n",
    "%cd ..\n",
    "%pip install -qr requirements.txt"
   ]
  },
  {
   "cell_type": "code",
   "execution_count": null,
   "id": "6b751043",
   "metadata": {
    "scrolled": true
   },
   "outputs": [
    {
     "name": "stdout",
     "output_type": "stream",
     "text": [
      "C:\\Users\\Dusan\\Documents\\GitHub\\soft-p\\src\\submodules\\yolov5\n"
     ]
    }
   ],
   "source": [
    "# install yolov5 dependencies as necessary\n",
    "\n",
    "%cd submodules\\yolov5\n",
    "\n",
    "# install dependencies (ignore errors)\n",
    "%pip install -qr requirements.txt\n",
    "import torch\n",
    "\n",
    "# to display images\n",
    "from IPython.display import Image, clear_output\n",
    "\n",
    "# to download models/datasets\n",
    "from utils.downloads import gdrive_download\n",
    "\n",
    "print('Setup complete. Using torch %s %s' % (torch.__version__, torch.cuda.get_device_properties(0) if torch.cuda.is_available() else 'CPU'))"
   ]
  },
  {
   "cell_type": "code",
   "execution_count": null,
   "id": "cdc6f718",
   "metadata": {},
   "outputs": [],
   "source": []
  }
 ],
 "metadata": {
  "interpreter": {
   "hash": "74e5f7ea2fe969f7dad3453eb4b3f085fefe9129ae1415ccc0ad696e3d15e3f8"
  },
  "kernelspec": {
   "display_name": "Python 3 (ipykernel)",
   "language": "python",
   "name": "python3"
  },
  "language_info": {
   "codemirror_mode": {
    "name": "ipython",
    "version": 3
   },
   "file_extension": ".py",
   "mimetype": "text/x-python",
   "name": "python",
   "nbconvert_exporter": "python",
   "pygments_lexer": "ipython3",
   "version": "3.8.12"
  }
 },
 "nbformat": 4,
 "nbformat_minor": 5
}
